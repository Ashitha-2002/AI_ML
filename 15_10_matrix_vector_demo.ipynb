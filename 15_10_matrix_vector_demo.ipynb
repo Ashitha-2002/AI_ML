{
 "cells": [
  {
   "cell_type": "code",
   "execution_count": 1,
   "id": "a11ffad9-4541-42f8-a8e8-4789e0015d2a",
   "metadata": {},
   "outputs": [
    {
     "name": "stdout",
     "output_type": "stream",
     "text": [
      "[[3 2 1]\n",
      " [8 8 1]\n",
      " [3 8 3]]\n"
     ]
    }
   ],
   "source": [
    "import numpy as np\n",
    "\n",
    "matrix1 = np.array([[3,2,1],[8,8,1],[3,8,3]])\n",
    "print(matrix1)"
   ]
  },
  {
   "cell_type": "code",
   "execution_count": 2,
   "id": "f1293caf-92da-4598-b1ca-134af00894ab",
   "metadata": {},
   "outputs": [
    {
     "name": "stdout",
     "output_type": "stream",
     "text": [
      "[[3 2]\n",
      " [6 4]]\n"
     ]
    }
   ],
   "source": [
    "matrix2 = np.array([[3,2],[6,4]])\n",
    "print(matrix2)"
   ]
  },
  {
   "cell_type": "code",
   "execution_count": 3,
   "id": "d1c82c8e-48ce-44bb-ac2b-ac30304c15e8",
   "metadata": {},
   "outputs": [
    {
     "name": "stdout",
     "output_type": "stream",
     "text": [
      "Mean ::  4.111111111111111\n",
      "Median ::  3.0\n",
      "Mode ::  ModeResult(mode=3, count=3)\n",
      "Column Mode ::  ModeResult(mode=array([3, 8, 1], dtype=int64), count=array([2, 2, 2], dtype=int64))\n",
      "Row Mode ::  ModeResult(mode=array([1, 8, 3], dtype=int64), count=array([1, 2, 2], dtype=int64))\n"
     ]
    }
   ],
   "source": [
    "from scipy import stats\n",
    "\n",
    "mean = np.mean(matrix1)\n",
    "median = np.median(matrix1)\n",
    "mode = stats.mode(matrix1, axis = None)\n",
    "column_mode = stats.mode(matrix1, axis = 0)\n",
    "row_mode = stats.mode(matrix1, axis = 1)\n",
    "\n",
    "print(\"Mean :: \",mean)\n",
    "print(\"Median :: \",median)\n",
    "print(\"Mode :: \",mode)\n",
    "print(\"Column Mode :: \",column_mode)\n",
    "print(\"Row Mode :: \",row_mode)"
   ]
  },
  {
   "cell_type": "code",
   "execution_count": 4,
   "id": "19ae7b52-179c-4303-bb17-4f8d1290420d",
   "metadata": {},
   "outputs": [
    {
     "name": "stdout",
     "output_type": "stream",
     "text": [
      "Transpose of the matrix:\n",
      " [[3 8 3]\n",
      " [2 8 8]\n",
      " [1 1 3]]\n"
     ]
    }
   ],
   "source": [
    "transpose = np.transpose(matrix1)\n",
    "print(\"Transpose of the matrix:\\n\",transpose)"
   ]
  },
  {
   "cell_type": "code",
   "execution_count": 7,
   "id": "57e92ac1-6bd6-44bd-9d39-89775640175f",
   "metadata": {},
   "outputs": [
    {
     "name": "stdout",
     "output_type": "stream",
     "text": [
      "45.999999999999986\n"
     ]
    }
   ],
   "source": [
    "determinant = np.linalg.det(matrix1)\n",
    "print(determinant)"
   ]
  },
  {
   "cell_type": "code",
   "execution_count": 8,
   "id": "49b5a6ba-27e7-4fbb-a0cf-2b7dc21f7be6",
   "metadata": {},
   "outputs": [
    {
     "name": "stdout",
     "output_type": "stream",
     "text": [
      "Original Matrix:\n",
      " [[3 2 1]\n",
      " [8 8 1]\n",
      " [3 8 3]]\n",
      "\n",
      "Inverse of the Matrix:\n",
      " [[ 0.34782609  0.04347826 -0.13043478]\n",
      " [-0.45652174  0.13043478  0.10869565]\n",
      " [ 0.86956522 -0.39130435  0.17391304]]\n"
     ]
    }
   ],
   "source": [
    "if determinant == 0:\n",
    "    print(\"The matrix is singular and does not have an inverse.\")\n",
    "else:\n",
    "    # Calculate the inverse\n",
    "    inverse = np.linalg.inv(matrix1)\n",
    "    print(\"Original Matrix:\\n\", matrix1)\n",
    "    print(\"\\nInverse of the Matrix:\\n\", inverse)"
   ]
  },
  {
   "cell_type": "code",
   "execution_count": 9,
   "id": "98bc9bc7-70f3-49e3-9cdc-841e01859423",
   "metadata": {},
   "outputs": [
    {
     "name": "stdout",
     "output_type": "stream",
     "text": [
      "matrix1 x matrix2:\n",
      " [[14 30]\n",
      " [38 86]]\n"
     ]
    }
   ],
   "source": [
    "matrix1 = np.array([[1, 3], [5, 7]])\n",
    "matrix2 = np.array([[2, 6], [4, 8]])\n",
    "\n",
    "result = np.dot(matrix1, matrix2)\n",
    "print(\"matrix1 x matrix2:\\n\", result)"
   ]
  },
  {
   "cell_type": "code",
   "execution_count": 10,
   "id": "d4e75663-7b48-4d21-9ff9-675ccb47d6cc",
   "metadata": {},
   "outputs": [
    {
     "name": "stdout",
     "output_type": "stream",
     "text": [
      "Vector 1: [1 2 3]\n",
      "Vector 2: [4 5 6]\n"
     ]
    }
   ],
   "source": [
    "import numpy as np\n",
    "\n",
    "v1 = np.array([1, 2, 3])\n",
    "v2 = np.array([4, 5, 6])\n",
    "\n",
    "print(\"Vector 1:\", v1)\n",
    "print(\"Vector 2:\", v2)"
   ]
  },
  {
   "cell_type": "code",
   "execution_count": 20,
   "id": "a7a7174e-45be-4ca5-b9fa-70ccf05d8aad",
   "metadata": {},
   "outputs": [
    {
     "name": "stdout",
     "output_type": "stream",
     "text": [
      "Addition: [5 7 9]\n",
      "Subtraction: [-3 -3 -3]\n"
     ]
    }
   ],
   "source": [
    "addition = v1 + v2\n",
    "print(\"Addition:\", addition)\n",
    "\n",
    "subtraction = v1 - v2\n",
    "print(\"Subtraction:\", subtraction)"
   ]
  },
  {
   "cell_type": "code",
   "execution_count": 19,
   "id": "c891dd28-89d7-463e-857d-c35f30cfebe4",
   "metadata": {},
   "outputs": [
    {
     "name": "stdout",
     "output_type": "stream",
     "text": [
      "Scalar Multiplication: [3 6 9]\n"
     ]
    }
   ],
   "source": [
    "scalar = 3\n",
    "scaled_vector = scalar * v1\n",
    "print(\"Scalar Multiplication:\", scaled_vector)"
   ]
  },
  {
   "cell_type": "code",
   "execution_count": 17,
   "id": "812b4f22-4c3d-499c-98fa-1e37261bff48",
   "metadata": {},
   "outputs": [
    {
     "name": "stdout",
     "output_type": "stream",
     "text": [
      "Dot Product: 32\n"
     ]
    }
   ],
   "source": [
    "dot_product = np.dot(v1, v2)\n",
    "print(\"Dot Product:\", dot_product)"
   ]
  },
  {
   "cell_type": "code",
   "execution_count": 18,
   "id": "640af098-4348-44c7-8b0c-3c26bf2ff1fe",
   "metadata": {},
   "outputs": [
    {
     "name": "stdout",
     "output_type": "stream",
     "text": [
      "Cross Product: [-3  6 -3]\n"
     ]
    }
   ],
   "source": [
    "cross_product = np.cross(v1, v2)\n",
    "print(\"Cross Product:\", cross_product)"
   ]
  },
  {
   "cell_type": "code",
   "execution_count": 21,
   "id": "3f162f41-417a-4b35-9cab-ab2d259b11a8",
   "metadata": {},
   "outputs": [
    {
     "name": "stdout",
     "output_type": "stream",
     "text": [
      "Magnitude of v1: 3.7416573867739413\n"
     ]
    }
   ],
   "source": [
    "magnitude = np.linalg.norm(v1)\n",
    "print(\"Magnitude of v1:\", magnitude)"
   ]
  },
  {
   "cell_type": "code",
   "execution_count": 23,
   "id": "eaa2def2-ba82-4f0e-9b1e-1de96557262c",
   "metadata": {},
   "outputs": [
    {
     "name": "stdout",
     "output_type": "stream",
     "text": [
      "Angle between v1 and v2 (radians): 0.2257261285527342\n",
      "Angle between v1 and v2 (degrees): 12.933154491899135\n"
     ]
    }
   ],
   "source": [
    "cos_theta = np.dot(v1, v2) / (np.linalg.norm(v1) * np.linalg.norm(v2))\n",
    "angle = np.arccos(cos_theta)  # Angle in radians\n",
    "print(\"Angle between v1 and v2 (radians):\", angle)\n",
    "print(\"Angle between v1 and v2 (degrees):\", np.degrees(angle))"
   ]
  },
  {
   "cell_type": "code",
   "execution_count": 24,
   "id": "e139605b-7488-466d-9972-bbf9c8fcbdbc",
   "metadata": {},
   "outputs": [
    {
     "name": "stdout",
     "output_type": "stream",
     "text": [
      "Element-wise Multiplication: [ 4 10 18]\n"
     ]
    }
   ],
   "source": [
    "elementwise_product = v1 * v2\n",
    "print(\"Element-wise Multiplication:\", elementwise_product)"
   ]
  },
  {
   "cell_type": "code",
   "execution_count": 25,
   "id": "eb86f3fa-4960-4b73-b274-331a12b75180",
   "metadata": {},
   "outputs": [
    {
     "name": "stdout",
     "output_type": "stream",
     "text": [
      "Projection of v1 onto v2: [1.66233766 2.07792208 2.49350649]\n"
     ]
    }
   ],
   "source": [
    "projection = (np.dot(v1, v2) / np.linalg.norm(v2)**2) * v2\n",
    "print(\"Projection of v1 onto v2:\", projection)"
   ]
  },
  {
   "cell_type": "code",
   "execution_count": null,
   "id": "7b675672-2c6d-4bb4-8879-506da9be20c8",
   "metadata": {},
   "outputs": [],
   "source": []
  }
 ],
 "metadata": {
  "kernelspec": {
   "display_name": "Python 3 (ipykernel)",
   "language": "python",
   "name": "python3"
  },
  "language_info": {
   "codemirror_mode": {
    "name": "ipython",
    "version": 3
   },
   "file_extension": ".py",
   "mimetype": "text/x-python",
   "name": "python",
   "nbconvert_exporter": "python",
   "pygments_lexer": "ipython3",
   "version": "3.12.4"
  }
 },
 "nbformat": 4,
 "nbformat_minor": 5
}
