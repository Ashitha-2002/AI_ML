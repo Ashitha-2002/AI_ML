{
 "cells": [
  {
   "cell_type": "code",
   "execution_count": 3,
   "id": "48d93bad-63e8-45fe-b229-a2436f833764",
   "metadata": {},
   "outputs": [
    {
     "name": "stdout",
     "output_type": "stream",
     "text": [
      "Slope (m): 135.7876712328767\n",
      "Intercept (b): 180616.43835616438\n",
      "Predictions: [533664.3835616438, 587979.4520547944, 615136.9863013698, 669452.0547945205, 723767.1232876712]\n",
      "Mean Squared Error: 186815068.4931503\n"
     ]
    }
   ],
   "source": [
    "import csv\n",
    "\n",
    "def linear_regression(x, y):\n",
    "    n = len(x)\n",
    "    sum_x = sum(x)\n",
    "    sum_y = sum(y)\n",
    "    sum_xy = sum(x_i * y_i for x_i, y_i in zip(x, y))\n",
    "    sum_x2 = sum(x_i**2 for x_i in x)\n",
    "\n",
    "    # Slope (m) and Intercept (b)\n",
    "    m = (n * sum_xy - sum_x * sum_y) / (n * sum_x2 - sum_x**2)\n",
    "    b = (sum_y - m * sum_x) / n\n",
    "    return m, b\n",
    "\n",
    "def predict(x, m, b):\n",
    "    return [m * x_i + b for x_i in x]\n",
    "\n",
    "def mean_squared_error(y_true, y_pred):\n",
    "    return sum((y_t - y_p)**2 for y_t, y_p in zip(y_true, y_pred)) / len(y_true)\n",
    "\n",
    "# Load real dataset from CSV\n",
    "def load_dataset(filepath):\n",
    "    x, y = [], []\n",
    "    with open(filepath, 'r') as file:\n",
    "        reader = csv.reader(file)\n",
    "        next(reader)  # Skip header row if any\n",
    "        for row in reader:\n",
    "            x.append(float(row[0]))  \n",
    "            y.append(float(row[1]))  y\n",
    "    return x, y\n",
    "\n",
    "dataset_path = \"homeprices.csv\" \n",
    "x, y = load_dataset(dataset_path)\n",
    "\n",
    "# Train the model\n",
    "m, b = linear_regression(x, y)\n",
    "print(f\"Slope (m): {m}\")\n",
    "print(f\"Intercept (b): {b}\")\n",
    "\n",
    "# Predict\n",
    "predictions = predict(x, m, b)\n",
    "print(f\"Predictions: {predictions}\")\n",
    "\n",
    "# Evaluate\n",
    "mse = mean_squared_error(y, predictions)\n",
    "print(f\"Mean Squared Error: {mse}\")\n"
   ]
  },
  {
   "cell_type": "code",
   "execution_count": null,
   "id": "6b0762ba-f487-41e5-9931-84420471252d",
   "metadata": {},
   "outputs": [],
   "source": []
  }
 ],
 "metadata": {
  "kernelspec": {
   "display_name": "Python 3 (ipykernel)",
   "language": "python",
   "name": "python3"
  },
  "language_info": {
   "codemirror_mode": {
    "name": "ipython",
    "version": 3
   },
   "file_extension": ".py",
   "mimetype": "text/x-python",
   "name": "python",
   "nbconvert_exporter": "python",
   "pygments_lexer": "ipython3",
   "version": "3.12.4"
  }
 },
 "nbformat": 4,
 "nbformat_minor": 5
}
